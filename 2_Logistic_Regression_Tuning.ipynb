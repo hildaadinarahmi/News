{
  "cells": [
    {
      "cell_type": "markdown",
      "metadata": {
        "id": "BXRb3-xd6MYp"
      },
      "source": [
        "# Import Libraries"
      ]
    },
    {
      "cell_type": "code",
      "execution_count": null,
      "metadata": {
        "id": "mxD43AHl6LrM"
      },
      "outputs": [],
      "source": [
        "# data manipulation\n",
        "import pandas as pd\n",
        "import numpy as np\n",
        "\n",
        "# data visualization\n",
        "import matplotlib.pyplot as plt\n",
        "import seaborn as sns\n",
        "\n",
        "# data preprocessing\n",
        "import re\n",
        "import nltk\n",
        "from sklearn.feature_extraction.text import TfidfVectorizer\n",
        "from sklearn.model_selection import train_test_split\n",
        "\n",
        "# data modelling\n",
        "from sklearn.naive_bayes import MultinomialNB\n",
        "from sklearn.ensemble import RandomForestClassifier\n",
        "from sklearn.neighbors import KNeighborsClassifier\n",
        "from sklearn.linear_model import LogisticRegression\n",
        "from sklearn.svm import SVC\n",
        "\n",
        "# model evaluation\n",
        "from sklearn.metrics import confusion_matrix, classification_report\n",
        "\n",
        "# model optimization\n",
        "from sklearn.model_selection import GridSearchCV\n",
        "\n",
        "# pickle file\n",
        "import pickle"
      ]
    },
    {
      "cell_type": "markdown",
      "metadata": {
        "id": "3OjmYYBB6OvU"
      },
      "source": [
        "# Import Dataset"
      ]
    },
    {
      "cell_type": "code",
      "execution_count": null,
      "metadata": {
        "colab": {
          "base_uri": "https://localhost:8080/",
          "height": 224
        },
        "id": "4gQjb47y6QpW",
        "outputId": "3b1cc543-651b-4616-ec5d-9d708b7e7e95"
      },
      "outputs": [
        {
          "data": {
            "text/html": [
              "<div>\n",
              "<style scoped>\n",
              "    .dataframe tbody tr th:only-of-type {\n",
              "        vertical-align: middle;\n",
              "    }\n",
              "\n",
              "    .dataframe tbody tr th {\n",
              "        vertical-align: top;\n",
              "    }\n",
              "\n",
              "    .dataframe thead th {\n",
              "        text-align: right;\n",
              "    }\n",
              "</style>\n",
              "<table border=\"1\" class=\"dataframe\">\n",
              "  <thead>\n",
              "    <tr style=\"text-align: right;\">\n",
              "      <th></th>\n",
              "      <th>Unnamed: 0</th>\n",
              "      <th>title</th>\n",
              "      <th>text</th>\n",
              "      <th>label</th>\n",
              "    </tr>\n",
              "  </thead>\n",
              "  <tbody>\n",
              "    <tr>\n",
              "      <th>0</th>\n",
              "      <td>8476</td>\n",
              "      <td>You Can Smell Hillary’s Fear</td>\n",
              "      <td>Daniel Greenfield, a Shillman Journalism Fello...</td>\n",
              "      <td>FAKE</td>\n",
              "    </tr>\n",
              "    <tr>\n",
              "      <th>1</th>\n",
              "      <td>10294</td>\n",
              "      <td>Watch The Exact Moment Paul Ryan Committed Pol...</td>\n",
              "      <td>Google Pinterest Digg Linkedin Reddit Stumbleu...</td>\n",
              "      <td>FAKE</td>\n",
              "    </tr>\n",
              "    <tr>\n",
              "      <th>2</th>\n",
              "      <td>3608</td>\n",
              "      <td>Kerry to go to Paris in gesture of sympathy</td>\n",
              "      <td>U.S. Secretary of State John F. Kerry said Mon...</td>\n",
              "      <td>REAL</td>\n",
              "    </tr>\n",
              "    <tr>\n",
              "      <th>3</th>\n",
              "      <td>10142</td>\n",
              "      <td>Bernie supporters on Twitter erupt in anger ag...</td>\n",
              "      <td>— Kaydee King (@KaydeeKing) November 9, 2016 T...</td>\n",
              "      <td>FAKE</td>\n",
              "    </tr>\n",
              "    <tr>\n",
              "      <th>4</th>\n",
              "      <td>875</td>\n",
              "      <td>The Battle of New York: Why This Primary Matters</td>\n",
              "      <td>It's primary day in New York and front-runners...</td>\n",
              "      <td>REAL</td>\n",
              "    </tr>\n",
              "  </tbody>\n",
              "</table>\n",
              "</div>"
            ],
            "text/plain": [
              "   Unnamed: 0                                              title  \\\n",
              "0        8476                       You Can Smell Hillary’s Fear   \n",
              "1       10294  Watch The Exact Moment Paul Ryan Committed Pol...   \n",
              "2        3608        Kerry to go to Paris in gesture of sympathy   \n",
              "3       10142  Bernie supporters on Twitter erupt in anger ag...   \n",
              "4         875   The Battle of New York: Why This Primary Matters   \n",
              "\n",
              "                                                text label  \n",
              "0  Daniel Greenfield, a Shillman Journalism Fello...  FAKE  \n",
              "1  Google Pinterest Digg Linkedin Reddit Stumbleu...  FAKE  \n",
              "2  U.S. Secretary of State John F. Kerry said Mon...  REAL  \n",
              "3  — Kaydee King (@KaydeeKing) November 9, 2016 T...  FAKE  \n",
              "4  It's primary day in New York and front-runners...  REAL  "
            ]
          },
          "execution_count": 5,
          "metadata": {},
          "output_type": "execute_result"
        }
      ],
      "source": [
        "df = pd.read_csv('news.csv')\n",
        "df.head()"
      ]
    },
    {
      "cell_type": "markdown",
      "metadata": {
        "id": "t2iCnatc6Q3B"
      },
      "source": [
        "# Exploratory Data Analysis (EDA)"
      ]
    },
    {
      "cell_type": "code",
      "execution_count": null,
      "metadata": {
        "colab": {
          "base_uri": "https://localhost:8080/"
        },
        "id": "zi1jkP-n-QYG",
        "outputId": "c10efa3b-ac48-4e15-9d33-20a99d4733ef"
      },
      "outputs": [
        {
          "data": {
            "text/html": [
              "<div>\n",
              "<style scoped>\n",
              "    .dataframe tbody tr th:only-of-type {\n",
              "        vertical-align: middle;\n",
              "    }\n",
              "\n",
              "    .dataframe tbody tr th {\n",
              "        vertical-align: top;\n",
              "    }\n",
              "\n",
              "    .dataframe thead th {\n",
              "        text-align: right;\n",
              "    }\n",
              "</style>\n",
              "<table border=\"1\" class=\"dataframe\">\n",
              "  <thead>\n",
              "    <tr style=\"text-align: right;\">\n",
              "      <th></th>\n",
              "      <th>Unnamed: 0</th>\n",
              "      <th>title</th>\n",
              "      <th>text</th>\n",
              "      <th>label</th>\n",
              "    </tr>\n",
              "  </thead>\n",
              "  <tbody>\n",
              "    <tr>\n",
              "      <th>0</th>\n",
              "      <td>8476</td>\n",
              "      <td>You Can Smell Hillary’s Fear</td>\n",
              "      <td>Daniel Greenfield, a Shillman Journalism Fello...</td>\n",
              "      <td>FAKE</td>\n",
              "    </tr>\n",
              "    <tr>\n",
              "      <th>1</th>\n",
              "      <td>10294</td>\n",
              "      <td>Watch The Exact Moment Paul Ryan Committed Pol...</td>\n",
              "      <td>Google Pinterest Digg Linkedin Reddit Stumbleu...</td>\n",
              "      <td>FAKE</td>\n",
              "    </tr>\n",
              "    <tr>\n",
              "      <th>2</th>\n",
              "      <td>3608</td>\n",
              "      <td>Kerry to go to Paris in gesture of sympathy</td>\n",
              "      <td>U.S. Secretary of State John F. Kerry said Mon...</td>\n",
              "      <td>REAL</td>\n",
              "    </tr>\n",
              "    <tr>\n",
              "      <th>3</th>\n",
              "      <td>10142</td>\n",
              "      <td>Bernie supporters on Twitter erupt in anger ag...</td>\n",
              "      <td>— Kaydee King (@KaydeeKing) November 9, 2016 T...</td>\n",
              "      <td>FAKE</td>\n",
              "    </tr>\n",
              "    <tr>\n",
              "      <th>4</th>\n",
              "      <td>875</td>\n",
              "      <td>The Battle of New York: Why This Primary Matters</td>\n",
              "      <td>It's primary day in New York and front-runners...</td>\n",
              "      <td>REAL</td>\n",
              "    </tr>\n",
              "  </tbody>\n",
              "</table>\n",
              "</div>"
            ],
            "text/plain": [
              "   Unnamed: 0                                              title  \\\n",
              "0        8476                       You Can Smell Hillary’s Fear   \n",
              "1       10294  Watch The Exact Moment Paul Ryan Committed Pol...   \n",
              "2        3608        Kerry to go to Paris in gesture of sympathy   \n",
              "3       10142  Bernie supporters on Twitter erupt in anger ag...   \n",
              "4         875   The Battle of New York: Why This Primary Matters   \n",
              "\n",
              "                                                text label  \n",
              "0  Daniel Greenfield, a Shillman Journalism Fello...  FAKE  \n",
              "1  Google Pinterest Digg Linkedin Reddit Stumbleu...  FAKE  \n",
              "2  U.S. Secretary of State John F. Kerry said Mon...  REAL  \n",
              "3  — Kaydee King (@KaydeeKing) November 9, 2016 T...  FAKE  \n",
              "4  It's primary day in New York and front-runners...  REAL  "
            ]
          },
          "execution_count": 7,
          "metadata": {},
          "output_type": "execute_result"
        }
      ],
      "source": [
        "df.head()"
      ]
    },
    {
      "cell_type": "code",
      "execution_count": null,
      "metadata": {
        "colab": {
          "base_uri": "https://localhost:8080/"
        },
        "id": "G1kW5oDZ6VhF",
        "outputId": "d8d50e6b-e869-4099-9ed5-7ba2bb4925a4"
      },
      "outputs": [
        {
          "name": "stdout",
          "output_type": "stream",
          "text": [
            "<class 'pandas.core.frame.DataFrame'>\n",
            "RangeIndex: 6335 entries, 0 to 6334\n",
            "Data columns (total 4 columns):\n",
            " #   Column      Non-Null Count  Dtype \n",
            "---  ------      --------------  ----- \n",
            " 0   Unnamed: 0  6335 non-null   int64 \n",
            " 1   title       6335 non-null   object\n",
            " 2   text        6335 non-null   object\n",
            " 3   label       6335 non-null   object\n",
            "dtypes: int64(1), object(3)\n",
            "memory usage: 198.1+ KB\n"
          ]
        }
      ],
      "source": [
        "df.info()"
      ]
    },
    {
      "cell_type": "markdown",
      "metadata": {
        "id": "Yv9t4EXZEuw1"
      },
      "source": [
        "Top 5 Topic"
      ]
    },
    {
      "cell_type": "code",
      "execution_count": null,
      "metadata": {
        "colab": {
          "base_uri": "https://localhost:8080/"
        },
        "id": "li6hevUEyVCK",
        "outputId": "59b09fdd-4063-4cef-c0e9-956978cdd7f8"
      },
      "outputs": [
        {
          "data": {
            "text/plain": [
              "title\n",
              "OnPolitics | 's politics blog                                                                         5\n",
              "Michael Moore Owes Me $4.99                                                                           3\n",
              "Hillary’s “Big Tent” is Obama’s “Grand Bargain” on Steroids                                           3\n",
              "Get Ready For Civil Unrest: Survey Finds That Most Americans Are Concerned About Election Violence    3\n",
              "The Dark Agenda Behind Globalism And Open Borders                                                     2\n",
              "Name: count, dtype: int64"
            ]
          },
          "execution_count": 10,
          "metadata": {},
          "output_type": "execute_result"
        }
      ],
      "source": [
        "df['title'].value_counts().head(5)"
      ]
    },
    {
      "cell_type": "markdown",
      "metadata": {
        "id": "vs9_7M74Eyox"
      },
      "source": [
        "Count Label"
      ]
    },
    {
      "cell_type": "code",
      "execution_count": null,
      "metadata": {
        "colab": {
          "base_uri": "https://localhost:8080/"
        },
        "id": "1aOP3u3Ammj5",
        "outputId": "c9e93b80-e719-4be3-a104-8ba1d53936fc"
      },
      "outputs": [
        {
          "data": {
            "text/plain": [
              "label\n",
              "REAL    3171\n",
              "FAKE    3164\n",
              "Name: count, dtype: int64"
            ]
          },
          "execution_count": 12,
          "metadata": {},
          "output_type": "execute_result"
        }
      ],
      "source": [
        "label = df['label']\n",
        "\n",
        "label_counts = label.value_counts().sort_values(ascending=False)\n",
        "label_counts"
      ]
    },
    {
      "cell_type": "code",
      "execution_count": null,
      "metadata": {
        "colab": {
          "base_uri": "https://localhost:8080/"
        },
        "id": "g-8n1RWem9lU",
        "outputId": "7784b3c3-f9fc-470b-b3a1-ad391f0a901e"
      },
      "outputs": [
        {
          "data": {
            "image/png": "[encoded data removed]",
            "text/plain": [
              "<Figure size 640x480 with 1 Axes>"
            ]
          },
          "metadata": {},
          "output_type": "display_data"
        }
      ],
      "source": [
        "# create a pie chart\n",
        "plt.pie(label_counts, labels=label_counts.index, autopct='%1.1f%%')\n",
        "\n",
        "# add title\n",
        "plt.title('Pie chart of label')\n",
        "\n",
        "# show the plot\n",
        "plt.show()"
      ]
    },
    {
      "cell_type": "markdown",
      "metadata": {
        "id": "Syr8MN686V0J"
      },
      "source": [
        "# Data Pre-processing"
      ]
    },
    {
      "cell_type": "markdown",
      "metadata": {
        "id": "bL_2HflPE2lD"
      },
      "source": [
        "## Missing Value"
      ]
    },
    {
      "cell_type": "code",
      "execution_count": null,
      "metadata": {
        "colab": {
          "base_uri": "https://localhost:8080/"
        },
        "id": "xWPs0SAk6awu",
        "outputId": "795dfff4-33f4-4fdf-e79d-d01f8629c195"
      },
      "outputs": [
        {
          "data": {
            "text/plain": [
              "Unnamed: 0    0\n",
              "title         0\n",
              "text          0\n",
              "label         0\n",
              "dtype: int64"
            ]
          },
          "execution_count": 16,
          "metadata": {},
          "output_type": "execute_result"
        }
      ],
      "source": [
        "df.isnull().sum()"
      ]
    },
    {
      "cell_type": "markdown",
      "metadata": {
        "id": "59z2bvlYE5JF"
      },
      "source": [
        "## Duplicated Value"
      ]
    },
    {
      "cell_type": "code",
      "execution_count": null,
      "metadata": {
        "colab": {
          "base_uri": "https://localhost:8080/"
        },
        "id": "NfbWrNOJzU18",
        "outputId": "f13dfef9-e69d-42f1-b402-4f0efffa4ee2"
      },
      "outputs": [
        {
          "data": {
            "text/plain": [
              "0"
            ]
          },
          "execution_count": 18,
          "metadata": {},
          "output_type": "execute_result"
        }
      ],
      "source": [
        "df.duplicated().sum()"
      ]
    },
    {
      "cell_type": "code",
      "execution_count": null,
      "metadata": {
        "id": "kj-RJrcjzpK4"
      },
      "outputs": [],
      "source": [
        "df_cp = df.copy()"
      ]
    },
    {
      "cell_type": "markdown",
      "metadata": {
        "id": "bC0vhgjDE61m"
      },
      "source": [
        "## Drop column"
      ]
    },
    {
      "cell_type": "code",
      "execution_count": null,
      "metadata": {
        "colab": {
          "base_uri": "https://localhost:8080/"
        },
        "id": "ZOnLIwF5zsif",
        "outputId": "175b5cea-738d-425e-e874-b36b612e94ec"
      },
      "outputs": [
        {
          "data": {
            "text/html": [
              "<div>\n",
              "<style scoped>\n",
              "    .dataframe tbody tr th:only-of-type {\n",
              "        vertical-align: middle;\n",
              "    }\n",
              "\n",
              "    .dataframe tbody tr th {\n",
              "        vertical-align: top;\n",
              "    }\n",
              "\n",
              "    .dataframe thead th {\n",
              "        text-align: right;\n",
              "    }\n",
              "</style>\n",
              "<table border=\"1\" class=\"dataframe\">\n",
              "  <thead>\n",
              "    <tr style=\"text-align: right;\">\n",
              "      <th></th>\n",
              "      <th>text</th>\n",
              "      <th>label</th>\n",
              "    </tr>\n",
              "  </thead>\n",
              "  <tbody>\n",
              "    <tr>\n",
              "      <th>0</th>\n",
              "      <td>Daniel Greenfield, a Shillman Journalism Fello...</td>\n",
              "      <td>FAKE</td>\n",
              "    </tr>\n",
              "    <tr>\n",
              "      <th>1</th>\n",
              "      <td>Google Pinterest Digg Linkedin Reddit Stumbleu...</td>\n",
              "      <td>FAKE</td>\n",
              "    </tr>\n",
              "    <tr>\n",
              "      <th>2</th>\n",
              "      <td>U.S. Secretary of State John F. Kerry said Mon...</td>\n",
              "      <td>REAL</td>\n",
              "    </tr>\n",
              "    <tr>\n",
              "      <th>3</th>\n",
              "      <td>— Kaydee King (@KaydeeKing) November 9, 2016 T...</td>\n",
              "      <td>FAKE</td>\n",
              "    </tr>\n",
              "    <tr>\n",
              "      <th>4</th>\n",
              "      <td>It's primary day in New York and front-runners...</td>\n",
              "      <td>REAL</td>\n",
              "    </tr>\n",
              "  </tbody>\n",
              "</table>\n",
              "</div>"
            ],
            "text/plain": [
              "                                                text label\n",
              "0  Daniel Greenfield, a Shillman Journalism Fello...  FAKE\n",
              "1  Google Pinterest Digg Linkedin Reddit Stumbleu...  FAKE\n",
              "2  U.S. Secretary of State John F. Kerry said Mon...  REAL\n",
              "3  — Kaydee King (@KaydeeKing) November 9, 2016 T...  FAKE\n",
              "4  It's primary day in New York and front-runners...  REAL"
            ]
          },
          "execution_count": 21,
          "metadata": {},
          "output_type": "execute_result"
        }
      ],
      "source": [
        "df_cp.drop(columns=['title', 'Unnamed: 0'], inplace=True)\n",
        "df_cp.head()"
      ]
    },
    {
      "cell_type": "markdown",
      "metadata": {
        "id": "j0VaHslAFEHW"
      },
      "source": [
        "## Count len of text"
      ]
    },
    {
      "cell_type": "code",
      "execution_count": null,
      "metadata": {
        "colab": {
          "base_uri": "https://localhost:8080/"
        },
        "id": "BERPTPvzEY-o",
        "outputId": "07589b0f-cb0e-4a39-fa3e-09e2f419878c"
      },
      "outputs": [
        {
          "data": {
            "text/html": [
              "<div>\n",
              "<style scoped>\n",
              "    .dataframe tbody tr th:only-of-type {\n",
              "        vertical-align: middle;\n",
              "    }\n",
              "\n",
              "    .dataframe tbody tr th {\n",
              "        vertical-align: top;\n",
              "    }\n",
              "\n",
              "    .dataframe thead th {\n",
              "        text-align: right;\n",
              "    }\n",
              "</style>\n",
              "<table border=\"1\" class=\"dataframe\">\n",
              "  <thead>\n",
              "    <tr style=\"text-align: right;\">\n",
              "      <th></th>\n",
              "      <th>text</th>\n",
              "      <th>label</th>\n",
              "      <th>text_len</th>\n",
              "    </tr>\n",
              "  </thead>\n",
              "  <tbody>\n",
              "    <tr>\n",
              "      <th>0</th>\n",
              "      <td>Daniel Greenfield, a Shillman Journalism Fello...</td>\n",
              "      <td>FAKE</td>\n",
              "      <td>7518</td>\n",
              "    </tr>\n",
              "    <tr>\n",
              "      <th>1</th>\n",
              "      <td>Google Pinterest Digg Linkedin Reddit Stumbleu...</td>\n",
              "      <td>FAKE</td>\n",
              "      <td>2646</td>\n",
              "    </tr>\n",
              "    <tr>\n",
              "      <th>2</th>\n",
              "      <td>U.S. Secretary of State John F. Kerry said Mon...</td>\n",
              "      <td>REAL</td>\n",
              "      <td>2543</td>\n",
              "    </tr>\n",
              "    <tr>\n",
              "      <th>3</th>\n",
              "      <td>— Kaydee King (@KaydeeKing) November 9, 2016 T...</td>\n",
              "      <td>FAKE</td>\n",
              "      <td>2660</td>\n",
              "    </tr>\n",
              "    <tr>\n",
              "      <th>4</th>\n",
              "      <td>It's primary day in New York and front-runners...</td>\n",
              "      <td>REAL</td>\n",
              "      <td>1840</td>\n",
              "    </tr>\n",
              "  </tbody>\n",
              "</table>\n",
              "</div>"
            ],
            "text/plain": [
              "                                                text label  text_len\n",
              "0  Daniel Greenfield, a Shillman Journalism Fello...  FAKE      7518\n",
              "1  Google Pinterest Digg Linkedin Reddit Stumbleu...  FAKE      2646\n",
              "2  U.S. Secretary of State John F. Kerry said Mon...  REAL      2543\n",
              "3  — Kaydee King (@KaydeeKing) November 9, 2016 T...  FAKE      2660\n",
              "4  It's primary day in New York and front-runners...  REAL      1840"
            ]
          },
          "execution_count": 23,
          "metadata": {},
          "output_type": "execute_result"
        }
      ],
      "source": [
        "df_cp['text_len'] = df_cp['text'].apply(len)\n",
        "df_cp.head()"
      ]
    },
    {
      "cell_type": "code",
      "execution_count": null,
      "metadata": {
        "colab": {
          "base_uri": "https://localhost:8080/"
        },
        "id": "ecFJrEF2Engp",
        "outputId": "1c35234c-0338-4988-b3c1-c1240a2d92cb"
      },
      "outputs": [
        {
          "data": {
            "text/html": [
              "<div>\n",
              "<style scoped>\n",
              "    .dataframe tbody tr th:only-of-type {\n",
              "        vertical-align: middle;\n",
              "    }\n",
              "\n",
              "    .dataframe tbody tr th {\n",
              "        vertical-align: top;\n",
              "    }\n",
              "\n",
              "    .dataframe thead th {\n",
              "        text-align: right;\n",
              "    }\n",
              "</style>\n",
              "<table border=\"1\" class=\"dataframe\">\n",
              "  <thead>\n",
              "    <tr style=\"text-align: right;\">\n",
              "      <th></th>\n",
              "      <th>text_len</th>\n",
              "    </tr>\n",
              "  </thead>\n",
              "  <tbody>\n",
              "    <tr>\n",
              "      <th>count</th>\n",
              "      <td>6335.000000</td>\n",
              "    </tr>\n",
              "    <tr>\n",
              "      <th>mean</th>\n",
              "      <td>4707.250355</td>\n",
              "    </tr>\n",
              "    <tr>\n",
              "      <th>std</th>\n",
              "      <td>5090.956446</td>\n",
              "    </tr>\n",
              "    <tr>\n",
              "      <th>min</th>\n",
              "      <td>1.000000</td>\n",
              "    </tr>\n",
              "    <tr>\n",
              "      <th>25%</th>\n",
              "      <td>1741.500000</td>\n",
              "    </tr>\n",
              "    <tr>\n",
              "      <th>50%</th>\n",
              "      <td>3642.000000</td>\n",
              "    </tr>\n",
              "    <tr>\n",
              "      <th>75%</th>\n",
              "      <td>6192.000000</td>\n",
              "    </tr>\n",
              "    <tr>\n",
              "      <th>max</th>\n",
              "      <td>115372.000000</td>\n",
              "    </tr>\n",
              "  </tbody>\n",
              "</table>\n",
              "</div>"
            ],
            "text/plain": [
              "            text_len\n",
              "count    6335.000000\n",
              "mean     4707.250355\n",
              "std      5090.956446\n",
              "min         1.000000\n",
              "25%      1741.500000\n",
              "50%      3642.000000\n",
              "75%      6192.000000\n",
              "max    115372.000000"
            ]
          },
          "execution_count": 24,
          "metadata": {},
          "output_type": "execute_result"
        }
      ],
      "source": [
        "df_cp.describe()"
      ]
    },
    {
      "cell_type": "markdown",
      "metadata": {
        "id": "elNtibMJFGfj"
      },
      "source": [
        "## Outlier"
      ]
    },
    {
      "cell_type": "code",
      "execution_count": null,
      "metadata": {
        "colab": {
          "base_uri": "https://localhost:8080/"
        },
        "id": "4eqQAc04FI3a",
        "outputId": "dda1b410-fdeb-4949-ab50-d015cff1281b"
      },
      "outputs": [
        {
          "data": {
            "text/html": [
              "<div>\n",
              "<style scoped>\n",
              "    .dataframe tbody tr th:only-of-type {\n",
              "        vertical-align: middle;\n",
              "    }\n",
              "\n",
              "    .dataframe tbody tr th {\n",
              "        vertical-align: top;\n",
              "    }\n",
              "\n",
              "    .dataframe thead th {\n",
              "        text-align: right;\n",
              "    }\n",
              "</style>\n",
              "<table border=\"1\" class=\"dataframe\">\n",
              "  <thead>\n",
              "    <tr style=\"text-align: right;\">\n",
              "      <th></th>\n",
              "      <th>text_len</th>\n",
              "    </tr>\n",
              "  </thead>\n",
              "  <tbody>\n",
              "    <tr>\n",
              "      <th>count</th>\n",
              "      <td>6296.000000</td>\n",
              "    </tr>\n",
              "    <tr>\n",
              "      <th>mean</th>\n",
              "      <td>4736.396601</td>\n",
              "    </tr>\n",
              "    <tr>\n",
              "      <th>std</th>\n",
              "      <td>5093.171590</td>\n",
              "    </tr>\n",
              "    <tr>\n",
              "      <th>min</th>\n",
              "      <td>34.000000</td>\n",
              "    </tr>\n",
              "    <tr>\n",
              "      <th>25%</th>\n",
              "      <td>1772.750000</td>\n",
              "    </tr>\n",
              "    <tr>\n",
              "      <th>50%</th>\n",
              "      <td>3665.000000</td>\n",
              "    </tr>\n",
              "    <tr>\n",
              "      <th>75%</th>\n",
              "      <td>6209.250000</td>\n",
              "    </tr>\n",
              "    <tr>\n",
              "      <th>max</th>\n",
              "      <td>115372.000000</td>\n",
              "    </tr>\n",
              "  </tbody>\n",
              "</table>\n",
              "</div>"
            ],
            "text/plain": [
              "            text_len\n",
              "count    6296.000000\n",
              "mean     4736.396601\n",
              "std      5093.171590\n",
              "min        34.000000\n",
              "25%      1772.750000\n",
              "50%      3665.000000\n",
              "75%      6209.250000\n",
              "max    115372.000000"
            ]
          },
          "execution_count": 26,
          "metadata": {},
          "output_type": "execute_result"
        }
      ],
      "source": [
        "# Remove outliers (texts with very short lengths)\n",
        "min_text_length = 20\n",
        "df_cp = df_cp[df_cp['text_len'] >= min_text_length]\n",
        "df_cp.describe()"
      ]
    },
    {
      "cell_type": "markdown",
      "metadata": {
        "id": "czjwMY3sGQ6M"
      },
      "source": [
        "## Clean Text"
      ]
    },
    {
      "cell_type": "code",
      "execution_count": null,
      "metadata": {
        "colab": {
          "base_uri": "https://localhost:8080/"
        },
        "id": "eanSrVI7GTPb",
        "outputId": "2391f35b-65a1-4ea9-f6d9-fd1dc8434cf2"
      },
      "outputs": [
        {
          "data": {
            "text/html": [
              "<div>\n",
              "<style scoped>\n",
              "    .dataframe tbody tr th:only-of-type {\n",
              "        vertical-align: middle;\n",
              "    }\n",
              "\n",
              "    .dataframe tbody tr th {\n",
              "        vertical-align: top;\n",
              "    }\n",
              "\n",
              "    .dataframe thead th {\n",
              "        text-align: right;\n",
              "    }\n",
              "</style>\n",
              "<table border=\"1\" class=\"dataframe\">\n",
              "  <thead>\n",
              "    <tr style=\"text-align: right;\">\n",
              "      <th></th>\n",
              "      <th>text</th>\n",
              "      <th>label</th>\n",
              "      <th>text_len</th>\n",
              "      <th>clean_text</th>\n",
              "    </tr>\n",
              "  </thead>\n",
              "  <tbody>\n",
              "    <tr>\n",
              "      <th>0</th>\n",
              "      <td>Daniel Greenfield, a Shillman Journalism Fello...</td>\n",
              "      <td>FAKE</td>\n",
              "      <td>7518</td>\n",
              "      <td>daniel greenfield a shillman journalism fellow...</td>\n",
              "    </tr>\n",
              "    <tr>\n",
              "      <th>1</th>\n",
              "      <td>Google Pinterest Digg Linkedin Reddit Stumbleu...</td>\n",
              "      <td>FAKE</td>\n",
              "      <td>2646</td>\n",
              "      <td>google pinterest digg linkedin reddit stumbleu...</td>\n",
              "    </tr>\n",
              "    <tr>\n",
              "      <th>2</th>\n",
              "      <td>U.S. Secretary of State John F. Kerry said Mon...</td>\n",
              "      <td>REAL</td>\n",
              "      <td>2543</td>\n",
              "      <td>u s secretary of state john f kerry said monda...</td>\n",
              "    </tr>\n",
              "    <tr>\n",
              "      <th>3</th>\n",
              "      <td>— Kaydee King (@KaydeeKing) November 9, 2016 T...</td>\n",
              "      <td>FAKE</td>\n",
              "      <td>2660</td>\n",
              "      <td>kaydee king kaydeeking november the lesson fro...</td>\n",
              "    </tr>\n",
              "    <tr>\n",
              "      <th>4</th>\n",
              "      <td>It's primary day in New York and front-runners...</td>\n",
              "      <td>REAL</td>\n",
              "      <td>1840</td>\n",
              "      <td>it s primary day in new york and front runners...</td>\n",
              "    </tr>\n",
              "  </tbody>\n",
              "</table>\n",
              "</div>"
            ],
            "text/plain": [
              "                                                text label  text_len  \\\n",
              "0  Daniel Greenfield, a Shillman Journalism Fello...  FAKE      7518   \n",
              "1  Google Pinterest Digg Linkedin Reddit Stumbleu...  FAKE      2646   \n",
              "2  U.S. Secretary of State John F. Kerry said Mon...  REAL      2543   \n",
              "3  — Kaydee King (@KaydeeKing) November 9, 2016 T...  FAKE      2660   \n",
              "4  It's primary day in New York and front-runners...  REAL      1840   \n",
              "\n",
              "                                          clean_text  \n",
              "0  daniel greenfield a shillman journalism fellow...  \n",
              "1  google pinterest digg linkedin reddit stumbleu...  \n",
              "2  u s secretary of state john f kerry said monda...  \n",
              "3  kaydee king kaydeeking november the lesson fro...  \n",
              "4  it s primary day in new york and front runners...  "
            ]
          },
          "execution_count": 28,
          "metadata": {},
          "output_type": "execute_result"
        }
      ],
      "source": [
        "# Defining a function to clean up the text\n",
        "def clean(Text):\n",
        "    sms = re.sub('[^a-zA-Z]', ' ', Text) #Replacing all non-alphabetic characters with a space\n",
        "    sms = sms.lower() #converting to lowecase\n",
        "    sms = sms.split()\n",
        "    sms = ' '.join(sms)\n",
        "    return sms\n",
        "\n",
        "df_cp[\"clean_text\"] = df_cp[\"text\"].apply(clean)\n",
        "df_cp.head()"
      ]
    },
    {
      "cell_type": "markdown",
      "metadata": {
        "id": "jKBPZhazGsK0"
      },
      "source": [
        "## Tokenization"
      ]
    },
    {
      "cell_type": "code",
      "execution_count": null,
      "metadata": {
        "colab": {
          "base_uri": "https://localhost:8080/"
        },
        "id": "9PxDWrRKGxc_",
        "outputId": "4a670439-3ba8-47fa-caf0-10d79cd10cbd"
      },
      "outputs": [
        {
          "name": "stderr",
          "output_type": "stream",
          "text": [
            "[nltk_data] Downloading package punkt to\n",
            "[nltk_data]     C:\\Users\\MARULI\\AppData\\Roaming\\nltk_data...\n",
            "[nltk_data]   Package punkt is already up-to-date!\n",
            "[nltk_data] Downloading package punkt_tab to\n",
            "[nltk_data]     C:\\Users\\MARULI\\AppData\\Roaming\\nltk_data...\n",
            "[nltk_data]   Package punkt_tab is already up-to-date!\n"
          ]
        },
        {
          "data": {
            "text/plain": [
              "True"
            ]
          },
          "execution_count": 30,
          "metadata": {},
          "output_type": "execute_result"
        }
      ],
      "source": [
        "nltk.download('punkt')\n",
        "nltk.download('punkt_tab')"
      ]
    },
    {
      "cell_type": "code",
      "execution_count": null,
      "metadata": {
        "colab": {
          "base_uri": "https://localhost:8080/"
        },
        "id": "pki9VmZ6G0LY",
        "outputId": "4fc37883-3134-4b34-8985-e75d38805ed0"
      },
      "outputs": [
        {
          "data": {
            "text/html": [
              "<div>\n",
              "<style scoped>\n",
              "    .dataframe tbody tr th:only-of-type {\n",
              "        vertical-align: middle;\n",
              "    }\n",
              "\n",
              "    .dataframe tbody tr th {\n",
              "        vertical-align: top;\n",
              "    }\n",
              "\n",
              "    .dataframe thead th {\n",
              "        text-align: right;\n",
              "    }\n",
              "</style>\n",
              "<table border=\"1\" class=\"dataframe\">\n",
              "  <thead>\n",
              "    <tr style=\"text-align: right;\">\n",
              "      <th></th>\n",
              "      <th>text</th>\n",
              "      <th>label</th>\n",
              "      <th>text_len</th>\n",
              "      <th>clean_text</th>\n",
              "      <th>Tokenize_Text</th>\n",
              "    </tr>\n",
              "  </thead>\n",
              "  <tbody>\n",
              "    <tr>\n",
              "      <th>0</th>\n",
              "      <td>Daniel Greenfield, a Shillman Journalism Fello...</td>\n",
              "      <td>FAKE</td>\n",
              "      <td>7518</td>\n",
              "      <td>daniel greenfield a shillman journalism fellow...</td>\n",
              "      <td>[daniel, greenfield, a, shillman, journalism, ...</td>\n",
              "    </tr>\n",
              "    <tr>\n",
              "      <th>1</th>\n",
              "      <td>Google Pinterest Digg Linkedin Reddit Stumbleu...</td>\n",
              "      <td>FAKE</td>\n",
              "      <td>2646</td>\n",
              "      <td>google pinterest digg linkedin reddit stumbleu...</td>\n",
              "      <td>[google, pinterest, digg, linkedin, reddit, st...</td>\n",
              "    </tr>\n",
              "    <tr>\n",
              "      <th>2</th>\n",
              "      <td>U.S. Secretary of State John F. Kerry said Mon...</td>\n",
              "      <td>REAL</td>\n",
              "      <td>2543</td>\n",
              "      <td>u s secretary of state john f kerry said monda...</td>\n",
              "      <td>[u, s, secretary, of, state, john, f, kerry, s...</td>\n",
              "    </tr>\n",
              "    <tr>\n",
              "      <th>3</th>\n",
              "      <td>— Kaydee King (@KaydeeKing) November 9, 2016 T...</td>\n",
              "      <td>FAKE</td>\n",
              "      <td>2660</td>\n",
              "      <td>kaydee king kaydeeking november the lesson fro...</td>\n",
              "      <td>[kaydee, king, kaydeeking, november, the, less...</td>\n",
              "    </tr>\n",
              "    <tr>\n",
              "      <th>4</th>\n",
              "      <td>It's primary day in New York and front-runners...</td>\n",
              "      <td>REAL</td>\n",
              "      <td>1840</td>\n",
              "      <td>it s primary day in new york and front runners...</td>\n",
              "      <td>[it, s, primary, day, in, new, york, and, fron...</td>\n",
              "    </tr>\n",
              "  </tbody>\n",
              "</table>\n",
              "</div>"
            ],
            "text/plain": [
              "                                                text label  text_len  \\\n",
              "0  Daniel Greenfield, a Shillman Journalism Fello...  FAKE      7518   \n",
              "1  Google Pinterest Digg Linkedin Reddit Stumbleu...  FAKE      2646   \n",
              "2  U.S. Secretary of State John F. Kerry said Mon...  REAL      2543   \n",
              "3  — Kaydee King (@KaydeeKing) November 9, 2016 T...  FAKE      2660   \n",
              "4  It's primary day in New York and front-runners...  REAL      1840   \n",
              "\n",
              "                                          clean_text  \\\n",
              "0  daniel greenfield a shillman journalism fellow...   \n",
              "1  google pinterest digg linkedin reddit stumbleu...   \n",
              "2  u s secretary of state john f kerry said monda...   \n",
              "3  kaydee king kaydeeking november the lesson fro...   \n",
              "4  it s primary day in new york and front runners...   \n",
              "\n",
              "                                       Tokenize_Text  \n",
              "0  [daniel, greenfield, a, shillman, journalism, ...  \n",
              "1  [google, pinterest, digg, linkedin, reddit, st...  \n",
              "2  [u, s, secretary, of, state, john, f, kerry, s...  \n",
              "3  [kaydee, king, kaydeeking, november, the, less...  \n",
              "4  [it, s, primary, day, in, new, york, and, fron...  "
            ]
          },
          "execution_count": 31,
          "metadata": {},
          "output_type": "execute_result"
        }
      ],
      "source": [
        "df_cp[\"Tokenize_Text\"] = df_cp.apply(lambda row: nltk.word_tokenize(row[\"clean_text\"]), axis=1)\n",
        "df_cp.head()"
      ]
    },
    {
      "cell_type": "markdown",
      "metadata": {
        "id": "e0UySnAAHNHs"
      },
      "source": [
        "## Stop words"
      ]
    },
    {
      "cell_type": "code",
      "execution_count": null,
      "metadata": {
        "colab": {
          "base_uri": "https://localhost:8080/"
        },
        "id": "CYwB5LUoHRcT",
        "outputId": "cf45404c-b65c-40bd-f42c-b76f09ad802b"
      },
      "outputs": [
        {
          "name": "stderr",
          "output_type": "stream",
          "text": [
            "[nltk_data] Downloading package stopwords to\n",
            "[nltk_data]     C:\\Users\\MARULI\\AppData\\Roaming\\nltk_data...\n",
            "[nltk_data]   Package stopwords is already up-to-date!\n"
          ]
        },
        {
          "data": {
            "text/plain": [
              "True"
            ]
          },
          "execution_count": 33,
          "metadata": {},
          "output_type": "execute_result"
        }
      ],
      "source": [
        "nltk.download('stopwords')"
      ]
    },
    {
      "cell_type": "code",
      "execution_count": null,
      "metadata": {
        "colab": {
          "base_uri": "https://localhost:8080/"
        },
        "id": "ip4DuWHCHT8q",
        "outputId": "3f80a9e6-65ed-4a9e-b97d-34183f18e751"
      },
      "outputs": [
        {
          "name": "stdout",
          "output_type": "stream",
          "text": [
            "['i', 'me', 'my', 'myself', 'we', 'our', 'ours', 'ourselves', 'you', \"you're\", \"you've\", \"you'll\", \"you'd\", 'your', 'yours', 'yourself', 'yourselves', 'he', 'him', 'his', 'himself', 'she', \"she's\", 'her', 'hers', 'herself', 'it', \"it's\", 'its', 'itself', 'they', 'them', 'their', 'theirs', 'themselves', 'what', 'which', 'who', 'whom', 'this', 'that', \"that'll\", 'these', 'those', 'am', 'is', 'are', 'was', 'were', 'be', 'been', 'being', 'have', 'has', 'had', 'having', 'do', 'does', 'did', 'doing', 'a', 'an', 'the', 'and', 'but', 'if', 'or', 'because', 'as', 'until', 'while', 'of', 'at', 'by', 'for', 'with', 'about', 'against', 'between', 'into', 'through', 'during', 'before', 'after', 'above', 'below', 'to', 'from', 'up', 'down', 'in', 'out', 'on', 'off', 'over', 'under', 'again', 'further', 'then', 'once', 'here', 'there', 'when', 'where', 'why', 'how', 'all', 'any', 'both', 'each', 'few', 'more', 'most', 'other', 'some', 'such', 'no', 'nor', 'not', 'only', 'own', 'same', 'so', 'than', 'too', 'very', 's', 't', 'can', 'will', 'just', 'don', \"don't\", 'should', \"should've\", 'now', 'd', 'll', 'm', 'o', 're', 've', 'y', 'ain', 'aren', \"aren't\", 'couldn', \"couldn't\", 'didn', \"didn't\", 'doesn', \"doesn't\", 'hadn', \"hadn't\", 'hasn', \"hasn't\", 'haven', \"haven't\", 'isn', \"isn't\", 'ma', 'mightn', \"mightn't\", 'mustn', \"mustn't\", 'needn', \"needn't\", 'shan', \"shan't\", 'shouldn', \"shouldn't\", 'wasn', \"wasn't\", 'weren', \"weren't\", 'won', \"won't\", 'wouldn', \"wouldn't\"]\n"
          ]
        }
      ],
      "source": [
        "from nltk.corpus import stopwords\n",
        "print(stopwords.words('english'))"
      ]
    },
    {
      "cell_type": "code",
      "execution_count": null,
      "metadata": {
        "colab": {
          "base_uri": "https://localhost:8080/"
        },
        "id": "G26HPk74HtDQ",
        "outputId": "e194f576-d402-4221-8b06-d539c3544ced"
      },
      "outputs": [
        {
          "data": {
            "text/html": [
              "<div>\n",
              "<style scoped>\n",
              "    .dataframe tbody tr th:only-of-type {\n",
              "        vertical-align: middle;\n",
              "    }\n",
              "\n",
              "    .dataframe tbody tr th {\n",
              "        vertical-align: top;\n",
              "    }\n",
              "\n",
              "    .dataframe thead th {\n",
              "        text-align: right;\n",
              "    }\n",
              "</style>\n",
              "<table border=\"1\" class=\"dataframe\">\n",
              "  <thead>\n",
              "    <tr style=\"text-align: right;\">\n",
              "      <th></th>\n",
              "      <th>text</th>\n",
              "      <th>label</th>\n",
              "      <th>text_len</th>\n",
              "      <th>clean_text</th>\n",
              "      <th>Tokenize_Text</th>\n",
              "      <th>Nostopword_Text</th>\n",
              "    </tr>\n",
              "  </thead>\n",
              "  <tbody>\n",
              "    <tr>\n",
              "      <th>0</th>\n",
              "      <td>Daniel Greenfield, a Shillman Journalism Fello...</td>\n",
              "      <td>FAKE</td>\n",
              "      <td>7518</td>\n",
              "      <td>daniel greenfield a shillman journalism fellow...</td>\n",
              "      <td>[daniel, greenfield, a, shillman, journalism, ...</td>\n",
              "      <td>[daniel, greenfield, shillman, journalism, fel...</td>\n",
              "    </tr>\n",
              "    <tr>\n",
              "      <th>1</th>\n",
              "      <td>Google Pinterest Digg Linkedin Reddit Stumbleu...</td>\n",
              "      <td>FAKE</td>\n",
              "      <td>2646</td>\n",
              "      <td>google pinterest digg linkedin reddit stumbleu...</td>\n",
              "      <td>[google, pinterest, digg, linkedin, reddit, st...</td>\n",
              "      <td>[google, pinterest, digg, linkedin, reddit, st...</td>\n",
              "    </tr>\n",
              "    <tr>\n",
              "      <th>2</th>\n",
              "      <td>U.S. Secretary of State John F. Kerry said Mon...</td>\n",
              "      <td>REAL</td>\n",
              "      <td>2543</td>\n",
              "      <td>u s secretary of state john f kerry said monda...</td>\n",
              "      <td>[u, s, secretary, of, state, john, f, kerry, s...</td>\n",
              "      <td>[u, secretary, state, john, f, kerry, said, mo...</td>\n",
              "    </tr>\n",
              "    <tr>\n",
              "      <th>3</th>\n",
              "      <td>— Kaydee King (@KaydeeKing) November 9, 2016 T...</td>\n",
              "      <td>FAKE</td>\n",
              "      <td>2660</td>\n",
              "      <td>kaydee king kaydeeking november the lesson fro...</td>\n",
              "      <td>[kaydee, king, kaydeeking, november, the, less...</td>\n",
              "      <td>[kaydee, king, kaydeeking, november, lesson, t...</td>\n",
              "    </tr>\n",
              "    <tr>\n",
              "      <th>4</th>\n",
              "      <td>It's primary day in New York and front-runners...</td>\n",
              "      <td>REAL</td>\n",
              "      <td>1840</td>\n",
              "      <td>it s primary day in new york and front runners...</td>\n",
              "      <td>[it, s, primary, day, in, new, york, and, fron...</td>\n",
              "      <td>[primary, day, new, york, front, runners, hill...</td>\n",
              "    </tr>\n",
              "  </tbody>\n",
              "</table>\n",
              "</div>"
            ],
            "text/plain": [
              "                                                text label  text_len  \\\n",
              "0  Daniel Greenfield, a Shillman Journalism Fello...  FAKE      7518   \n",
              "1  Google Pinterest Digg Linkedin Reddit Stumbleu...  FAKE      2646   \n",
              "2  U.S. Secretary of State John F. Kerry said Mon...  REAL      2543   \n",
              "3  — Kaydee King (@KaydeeKing) November 9, 2016 T...  FAKE      2660   \n",
              "4  It's primary day in New York and front-runners...  REAL      1840   \n",
              "\n",
              "                                          clean_text  \\\n",
              "0  daniel greenfield a shillman journalism fellow...   \n",
              "1  google pinterest digg linkedin reddit stumbleu...   \n",
              "2  u s secretary of state john f kerry said monda...   \n",
              "3  kaydee king kaydeeking november the lesson fro...   \n",
              "4  it s primary day in new york and front runners...   \n",
              "\n",
              "                                       Tokenize_Text  \\\n",
              "0  [daniel, greenfield, a, shillman, journalism, ...   \n",
              "1  [google, pinterest, digg, linkedin, reddit, st...   \n",
              "2  [u, s, secretary, of, state, john, f, kerry, s...   \n",
              "3  [kaydee, king, kaydeeking, november, the, less...   \n",
              "4  [it, s, primary, day, in, new, york, and, fron...   \n",
              "\n",
              "                                     Nostopword_Text  \n",
              "0  [daniel, greenfield, shillman, journalism, fel...  \n",
              "1  [google, pinterest, digg, linkedin, reddit, st...  \n",
              "2  [u, secretary, state, john, f, kerry, said, mo...  \n",
              "3  [kaydee, king, kaydeeking, november, lesson, t...  \n",
              "4  [primary, day, new, york, front, runners, hill...  "
            ]
          },
          "execution_count": 35,
          "metadata": {},
          "output_type": "execute_result"
        }
      ],
      "source": [
        "# Removing the stopwords function\n",
        "def remove_stopwords(text):\n",
        "    stop_words = set(stopwords.words(\"english\"))\n",
        "    filtered_text = [word for word in text if word not in stop_words]\n",
        "    return filtered_text\n",
        "\n",
        "df_cp[\"Nostopword_Text\"] = df_cp[\"Tokenize_Text\"].apply(remove_stopwords)\n",
        "df_cp.head()"
      ]
    },
    {
      "cell_type": "markdown",
      "metadata": {
        "id": "ngZkazgYH2sP"
      },
      "source": [
        "## Lemmatization"
      ]
    },
    {
      "cell_type": "code",
      "execution_count": null,
      "metadata": {
        "colab": {
          "base_uri": "https://localhost:8080/"
        },
        "id": "G-0AtzcVH56s",
        "outputId": "690af6fb-d7de-45c2-9a53-161bc9e0099e"
      },
      "outputs": [
        {
          "name": "stderr",
          "output_type": "stream",
          "text": [
            "[nltk_data] Downloading package wordnet to\n",
            "[nltk_data]     C:\\Users\\MARULI\\AppData\\Roaming\\nltk_data...\n",
            "[nltk_data]   Package wordnet is already up-to-date!\n",
            "[nltk_data] Downloading package omw-1.4 to\n",
            "[nltk_data]     C:\\Users\\MARULI\\AppData\\Roaming\\nltk_data...\n",
            "[nltk_data]   Package omw-1.4 is already up-to-date!\n"
          ]
        },
        {
          "data": {
            "text/plain": [
              "True"
            ]
          },
          "execution_count": 37,
          "metadata": {},
          "output_type": "execute_result"
        }
      ],
      "source": [
        "nltk.download('wordnet')\n",
        "nltk.download('omw-1.4')"
      ]
    },
    {
      "cell_type": "code",
      "execution_count": null,
      "metadata": {
        "colab": {
          "base_uri": "https://localhost:8080/"
        },
        "id": "pr251OK5H-jO",
        "outputId": "8fd0b919-8a3a-4ec8-9164-eddabb5f6ec2"
      },
      "outputs": [
        {
          "data": {
            "text/html": [
              "<div>\n",
              "<style scoped>\n",
              "    .dataframe tbody tr th:only-of-type {\n",
              "        vertical-align: middle;\n",
              "    }\n",
              "\n",
              "    .dataframe tbody tr th {\n",
              "        vertical-align: top;\n",
              "    }\n",
              "\n",
              "    .dataframe thead th {\n",
              "        text-align: right;\n",
              "    }\n",
              "</style>\n",
              "<table border=\"1\" class=\"dataframe\">\n",
              "  <thead>\n",
              "    <tr style=\"text-align: right;\">\n",
              "      <th></th>\n",
              "      <th>text</th>\n",
              "      <th>label</th>\n",
              "      <th>text_len</th>\n",
              "      <th>clean_text</th>\n",
              "      <th>Tokenize_Text</th>\n",
              "      <th>Nostopword_Text</th>\n",
              "      <th>Lemmatized_Text</th>\n",
              "    </tr>\n",
              "  </thead>\n",
              "  <tbody>\n",
              "    <tr>\n",
              "      <th>0</th>\n",
              "      <td>Daniel Greenfield, a Shillman Journalism Fello...</td>\n",
              "      <td>FAKE</td>\n",
              "      <td>7518</td>\n",
              "      <td>daniel greenfield a shillman journalism fellow...</td>\n",
              "      <td>[daniel, greenfield, a, shillman, journalism, ...</td>\n",
              "      <td>[daniel, greenfield, shillman, journalism, fel...</td>\n",
              "      <td>[daniel, greenfield, shillman, journalism, fel...</td>\n",
              "    </tr>\n",
              "    <tr>\n",
              "      <th>1</th>\n",
              "      <td>Google Pinterest Digg Linkedin Reddit Stumbleu...</td>\n",
              "      <td>FAKE</td>\n",
              "      <td>2646</td>\n",
              "      <td>google pinterest digg linkedin reddit stumbleu...</td>\n",
              "      <td>[google, pinterest, digg, linkedin, reddit, st...</td>\n",
              "      <td>[google, pinterest, digg, linkedin, reddit, st...</td>\n",
              "      <td>[google, pinterest, digg, linkedin, reddit, st...</td>\n",
              "    </tr>\n",
              "    <tr>\n",
              "      <th>2</th>\n",
              "      <td>U.S. Secretary of State John F. Kerry said Mon...</td>\n",
              "      <td>REAL</td>\n",
              "      <td>2543</td>\n",
              "      <td>u s secretary of state john f kerry said monda...</td>\n",
              "      <td>[u, s, secretary, of, state, john, f, kerry, s...</td>\n",
              "      <td>[u, secretary, state, john, f, kerry, said, mo...</td>\n",
              "      <td>[u, secretary, state, john, f, kerry, say, mon...</td>\n",
              "    </tr>\n",
              "    <tr>\n",
              "      <th>3</th>\n",
              "      <td>— Kaydee King (@KaydeeKing) November 9, 2016 T...</td>\n",
              "      <td>FAKE</td>\n",
              "      <td>2660</td>\n",
              "      <td>kaydee king kaydeeking november the lesson fro...</td>\n",
              "      <td>[kaydee, king, kaydeeking, november, the, less...</td>\n",
              "      <td>[kaydee, king, kaydeeking, november, lesson, t...</td>\n",
              "      <td>[kaydee, king, kaydeeking, november, lesson, t...</td>\n",
              "    </tr>\n",
              "    <tr>\n",
              "      <th>4</th>\n",
              "      <td>It's primary day in New York and front-runners...</td>\n",
              "      <td>REAL</td>\n",
              "      <td>1840</td>\n",
              "      <td>it s primary day in new york and front runners...</td>\n",
              "      <td>[it, s, primary, day, in, new, york, and, fron...</td>\n",
              "      <td>[primary, day, new, york, front, runners, hill...</td>\n",
              "      <td>[primary, day, new, york, front, runners, hill...</td>\n",
              "    </tr>\n",
              "  </tbody>\n",
              "</table>\n",
              "</div>"
            ],
            "text/plain": [
              "                                                text label  text_len  \\\n",
              "0  Daniel Greenfield, a Shillman Journalism Fello...  FAKE      7518   \n",
              "1  Google Pinterest Digg Linkedin Reddit Stumbleu...  FAKE      2646   \n",
              "2  U.S. Secretary of State John F. Kerry said Mon...  REAL      2543   \n",
              "3  — Kaydee King (@KaydeeKing) November 9, 2016 T...  FAKE      2660   \n",
              "4  It's primary day in New York and front-runners...  REAL      1840   \n",
              "\n",
              "                                          clean_text  \\\n",
              "0  daniel greenfield a shillman journalism fellow...   \n",
              "1  google pinterest digg linkedin reddit stumbleu...   \n",
              "2  u s secretary of state john f kerry said monda...   \n",
              "3  kaydee king kaydeeking november the lesson fro...   \n",
              "4  it s primary day in new york and front runners...   \n",
              "\n",
              "                                       Tokenize_Text  \\\n",
              "0  [daniel, greenfield, a, shillman, journalism, ...   \n",
              "1  [google, pinterest, digg, linkedin, reddit, st...   \n",
              "2  [u, s, secretary, of, state, john, f, kerry, s...   \n",
              "3  [kaydee, king, kaydeeking, november, the, less...   \n",
              "4  [it, s, primary, day, in, new, york, and, fron...   \n",
              "\n",
              "                                     Nostopword_Text  \\\n",
              "0  [daniel, greenfield, shillman, journalism, fel...   \n",
              "1  [google, pinterest, digg, linkedin, reddit, st...   \n",
              "2  [u, secretary, state, john, f, kerry, said, mo...   \n",
              "3  [kaydee, king, kaydeeking, november, lesson, t...   \n",
              "4  [primary, day, new, york, front, runners, hill...   \n",
              "\n",
              "                                     Lemmatized_Text  \n",
              "0  [daniel, greenfield, shillman, journalism, fel...  \n",
              "1  [google, pinterest, digg, linkedin, reddit, st...  \n",
              "2  [u, secretary, state, john, f, kerry, say, mon...  \n",
              "3  [kaydee, king, kaydeeking, november, lesson, t...  \n",
              "4  [primary, day, new, york, front, runners, hill...  "
            ]
          },
          "execution_count": 38,
          "metadata": {},
          "output_type": "execute_result"
        }
      ],
      "source": [
        "from nltk.stem import WordNetLemmatizer\n",
        "\n",
        "lemmatizer = WordNetLemmatizer()\n",
        "# lemmatize string\n",
        "def lemmatize_word(text):\n",
        "    #word_tokens = word_tokenize(text)\n",
        "    # provide context i.e. part-of-speech\n",
        "    lemmas = [lemmatizer.lemmatize(word, pos ='v') for word in text]\n",
        "    return lemmas\n",
        "\n",
        "df_cp[\"Lemmatized_Text\"] = df_cp[\"Nostopword_Text\"].apply(lemmatize_word)\n",
        "df_cp.head()"
      ]
    },
    {
      "cell_type": "markdown",
      "metadata": {
        "id": "1D05V3TOIPWB"
      },
      "source": [
        "## Corpus"
      ]
    },
    {
      "cell_type": "code",
      "execution_count": null,
      "metadata": {
        "id": "0Pq9AE_wIRDp"
      },
      "outputs": [],
      "source": [
        "#Creating a corpus of text feature to encode further into vectorized form\n",
        "corpus= []\n",
        "for row in df_cp[\"Lemmatized_Text\"]:\n",
        "    msg = ' '.join(row)\n",
        "    corpus.append(msg)"
      ]
    },
    {
      "cell_type": "markdown",
      "metadata": {
        "id": "b24ISKzKIjJc"
      },
      "source": [
        "## Vectorization"
      ]
    },
    {
      "cell_type": "code",
      "execution_count": null,
      "metadata": {
        "colab": {
          "base_uri": "https://localhost:8080/"
        },
        "id": "K24dSne9IhXu",
        "outputId": "54b1eee5-aedc-4a93-ca4e-ebec7c1fed73"
      },
      "outputs": [
        {
          "data": {
            "text/plain": [
              "dtype('float64')"
            ]
          },
          "execution_count": 42,
          "metadata": {},
          "output_type": "execute_result"
        }
      ],
      "source": [
        "#Changing text data in to numbers.\n",
        "tfidf = TfidfVectorizer()\n",
        "X = tfidf.fit_transform(corpus).toarray()\n",
        "#Let's have a look at our feature\n",
        "X.dtype"
      ]
    },
    {
      "cell_type": "code",
      "execution_count": null,
      "metadata": {
        "colab": {
          "base_uri": "https://localhost:8080/"
        },
        "id": "K8SPTlELIylu",
        "outputId": "1e074dec-be7a-4e49-9fa5-3697f4eb75a1"
      },
      "outputs": [
        {
          "data": {
            "text/plain": [
              "array([[0., 0., 0., ..., 0., 0., 0.],\n",
              "       [0., 0., 0., ..., 0., 0., 0.],\n",
              "       [0., 0., 0., ..., 0., 0., 0.],\n",
              "       ...,\n",
              "       [0., 0., 0., ..., 0., 0., 0.],\n",
              "       [0., 0., 0., ..., 0., 0., 0.],\n",
              "       [0., 0., 0., ..., 0., 0., 0.]])"
            ]
          },
          "execution_count": 43,
          "metadata": {},
          "output_type": "execute_result"
        }
      ],
      "source": [
        "X"
      ]
    },
    {
      "cell_type": "markdown",
      "metadata": {
        "id": "s2QO44U6JKFD"
      },
      "source": [
        "## Split data"
      ]
    },
    {
      "cell_type": "code",
      "execution_count": null,
      "metadata": {
        "colab": {
          "base_uri": "https://localhost:8080/"
        },
        "id": "8YVgW0PLJMVC",
        "outputId": "a04f1f02-64fb-4e44-c68a-24b55577ce9f"
      },
      "outputs": [
        {
          "name": "stdout",
          "output_type": "stream",
          "text": [
            "(5036, 54626)\n",
            "(1260, 54626)\n",
            "(5036,)\n",
            "(1260,)\n"
          ]
        }
      ],
      "source": [
        "#Setting values for labels and feature as y and X(we already did X in vectorizing...)\n",
        "y = df_cp[\"label\"]\n",
        "# Splitting the testing and training sets\n",
        "X_train, X_test, y_train, y_test = train_test_split(X, y, test_size=0.2, random_state=42)\n",
        "\n",
        "print(X_train.shape)\n",
        "print(X_test.shape)\n",
        "print(y_train.shape)\n",
        "print(y_test.shape)"
      ]
    },
    {
      "cell_type": "code",
      "source": [],
      "metadata": {
        "id": "08ovv5JnPdAl"
      },
      "execution_count": null,
      "outputs": []
    },
    {
      "cell_type": "markdown",
      "metadata": {
        "id": "FfAjGgDI6bA_"
      },
      "source": [
        "# Model Training"
      ]
    },
    {
      "cell_type": "code",
      "execution_count": null,
      "metadata": {
        "id": "Cpt7j1eo6l-K"
      },
      "outputs": [],
      "source": [
        "def classification_eval(aktual, prediksi, name):\n",
        "\n",
        "  cm = confusion_matrix(aktual, prediksi)\n",
        "  # plot confusion matrix\n",
        "  plt.figure(figsize=(8,6))\n",
        "  sns.heatmap(cm, annot=True, fmt=\"d\", cmap=\"Blues\", cbar=False,\n",
        "              xticklabels=['Predicted Negative', 'Predicted Positive'],\n",
        "              yticklabels=['Actual Negative', 'Actual Positive'])\n",
        "  plt.xlabel('Predicted Labels')\n",
        "  plt.ylabel('Actual Lables')\n",
        "  plt.title(f'Confusion Matrix - {name}')\n",
        "  plt.show()\n",
        "\n",
        "  print(classification_report(aktual, prediksi))"
      ]
    },
    {
      "cell_type": "markdown",
      "metadata": {
        "id": "1EAqUPPRLXjj"
      },
      "source": [
        "## Naive Bayes"
      ]
    },
    {
      "cell_type": "code",
      "execution_count": null,
      "metadata": {
        "colab": {
          "base_uri": "https://localhost:8080/",
          "height": 728
        },
        "id": "EureRVJHLiDZ",
        "outputId": "e40a4792-8e9a-419e-e872-8e150afeb80b"
      },
      "outputs": [
        {
          "data": {
            "image/png": "[encoded data removed]",
            "text/plain": [
              "<Figure size 800x600 with 1 Axes>"
            ]
          },
          "metadata": {},
          "output_type": "display_data"
        },
        {
          "name": "stdout",
          "output_type": "stream",
          "text": [
            "              precision    recall  f1-score   support\n",
            "\n",
            "        FAKE       0.98      0.71      0.82       618\n",
            "        REAL       0.78      0.99      0.87       642\n",
            "\n",
            "    accuracy                           0.85      1260\n",
            "   macro avg       0.88      0.85      0.85      1260\n",
            "weighted avg       0.88      0.85      0.85      1260\n",
            "\n"
          ]
        }
      ],
      "source": [
        "# mnb = MultinomialNB()\n",
        "\n",
        "# mnb.fit(X_train, y_train)\n",
        "# y_pred_mnv = mnb.predict(X_test)\n",
        "\n",
        "# classification_eval(y_test, y_pred_mnv, 'Naive Bayes')"
      ]
    },
    {
      "cell_type": "markdown",
      "metadata": {
        "id": "eWu6i0L3Mri6"
      },
      "source": [
        "## Random Forest"
      ]
    },
    {
      "cell_type": "code",
      "execution_count": null,
      "metadata": {
        "id": "OpmxyJDkMz79",
        "outputId": "9fa3b5e0-e47a-4672-df85-8f2af80b7586"
      },
      "outputs": [
        {
          "data": {
            "image/png": "[encoded data removed]",
            "text/plain": [
              "<Figure size 800x600 with 1 Axes>"
            ]
          },
          "metadata": {},
          "output_type": "display_data"
        },
        {
          "name": "stdout",
          "output_type": "stream",
          "text": [
            "              precision    recall  f1-score   support\n",
            "\n",
            "        FAKE       0.88      0.92      0.90       618\n",
            "        REAL       0.92      0.88      0.90       642\n",
            "\n",
            "    accuracy                           0.90      1260\n",
            "   macro avg       0.90      0.90      0.90      1260\n",
            "weighted avg       0.90      0.90      0.90      1260\n",
            "\n"
          ]
        }
      ],
      "source": [
        "# rf = RandomForestClassifier()\n",
        "\n",
        "# rf.fit(X_train, y_train)\n",
        "# y_pred_rf = rf.predict(X_test)\n",
        "\n",
        "# classification_eval(y_test, y_pred_rf, 'Random Forest')"
      ]
    },
    {
      "cell_type": "markdown",
      "metadata": {
        "id": "q4LuVbAkNTnc"
      },
      "source": [
        "## KNN"
      ]
    },
    {
      "cell_type": "code",
      "execution_count": null,
      "metadata": {
        "id": "s-qguiAsNWRt",
        "outputId": "94008df9-cb91-41cc-e5d0-c7ac2c8bce41"
      },
      "outputs": [
        {
          "data": {
            "image/png": "[encoded data removed]",
            "text/plain": [
              "<Figure size 800x600 with 1 Axes>"
            ]
          },
          "metadata": {},
          "output_type": "display_data"
        },
        {
          "name": "stdout",
          "output_type": "stream",
          "text": [
            "              precision    recall  f1-score   support\n",
            "\n",
            "        FAKE       0.93      0.74      0.82       618\n",
            "        REAL       0.79      0.95      0.86       642\n",
            "\n",
            "    accuracy                           0.84      1260\n",
            "   macro avg       0.86      0.84      0.84      1260\n",
            "weighted avg       0.86      0.84      0.84      1260\n",
            "\n"
          ]
        }
      ],
      "source": [
        "# knn = KNeighborsClassifier()\n",
        "\n",
        "# knn.fit(X_train, y_train)\n",
        "# y_pred_knn = knn.predict(X_test)\n",
        "\n",
        "# classification_eval(y_test, y_pred_knn, 'KNN')"
      ]
    },
    {
      "cell_type": "markdown",
      "metadata": {
        "id": "ktMGXBsFOfTz"
      },
      "source": [
        "## Logistic Regression"
      ]
    },
    {
      "cell_type": "code",
      "execution_count": null,
      "metadata": {
        "id": "smp2luX_Olyw",
        "outputId": "41874f4d-4869-4145-be66-2f2c719a2bbd"
      },
      "outputs": [
        {
          "data": {
            "image/png": "[encoded data removed]",
            "text/plain": [
              "<Figure size 800x600 with 1 Axes>"
            ]
          },
          "metadata": {},
          "output_type": "display_data"
        },
        {
          "name": "stdout",
          "output_type": "stream",
          "text": [
            "              precision    recall  f1-score   support\n",
            "\n",
            "        FAKE       0.88      0.94      0.91       618\n",
            "        REAL       0.94      0.88      0.91       642\n",
            "\n",
            "    accuracy                           0.91      1260\n",
            "   macro avg       0.91      0.91      0.91      1260\n",
            "weighted avg       0.91      0.91      0.91      1260\n",
            "\n"
          ]
        }
      ],
      "source": [
        "# lr = LogisticRegression()\n",
        "# lr.fit(X_train, y_train)\n",
        "# y_pred_lr = lr.predict(X_test)\n",
        "\n",
        "# classification_eval(y_test, y_pred_lr, 'Logistic Regression')"
      ]
    },
    {
      "cell_type": "markdown",
      "metadata": {
        "id": "lBjB2BFpNrdA"
      },
      "source": [
        "## SVC"
      ]
    },
    {
      "cell_type": "markdown",
      "source": [
        "93%"
      ],
      "metadata": {
        "id": "QtuANfTdClin"
      }
    },
    {
      "cell_type": "code",
      "execution_count": null,
      "metadata": {
        "id": "axqmR928NuaJ"
      },
      "outputs": [],
      "source": [
        "# svc = SVC()\n",
        "\n",
        "# svc.fit(X_train, y_train)\n",
        "# y_pred_svc = svc.predict(X_test)\n",
        "\n",
        "# classification_eval(y_test, y_pred_svc, 'SVC')"
      ]
    },
    {
      "cell_type": "markdown",
      "metadata": {
        "id": "Ss5vWV1zYi-_"
      },
      "source": [
        "# Tuning Model"
      ]
    },
    {
      "cell_type": "code",
      "execution_count": null,
      "metadata": {
        "id": "ItDmpOUzYm4w",
        "outputId": "e1e337da-60c0-4536-a10a-a6c356bc4395"
      },
      "outputs": [
        {
          "name": "stdout",
          "output_type": "stream",
          "text": [
            "Fitting 3 folds for each of 36 candidates, totalling 108 fits\n",
            "[CV] END ..................C=0.1, max_iter=100, solver=lbfgs; total time=   2.2s\n",
            "[CV] END ..................C=0.1, max_iter=100, solver=lbfgs; total time=   2.3s\n",
            "[CV] END ..................C=0.1, max_iter=100, solver=lbfgs; total time=   2.7s\n",
            "[CV] END ..............C=0.1, max_iter=100, solver=liblinear; total time=   2.7s\n",
            "[CV] END ..............C=0.1, max_iter=100, solver=liblinear; total time=   1.4s\n",
            "[CV] END ..............C=0.1, max_iter=100, solver=liblinear; total time=   1.2s\n",
            "[CV] END ..............C=0.1, max_iter=100, solver=newton-cg; total time=   7.2s\n",
            "[CV] END ..............C=0.1, max_iter=100, solver=newton-cg; total time=   5.8s\n",
            "[CV] END ..............C=0.1, max_iter=100, solver=newton-cg; total time=   5.6s\n",
            "[CV] END .................C=0.1, max_iter=1000, solver=lbfgs; total time=   2.2s\n",
            "[CV] END .................C=0.1, max_iter=1000, solver=lbfgs; total time=   1.9s\n",
            "[CV] END .................C=0.1, max_iter=1000, solver=lbfgs; total time=   2.3s\n",
            "[CV] END .............C=0.1, max_iter=1000, solver=liblinear; total time=   1.3s\n",
            "[CV] END .............C=0.1, max_iter=1000, solver=liblinear; total time=   1.1s\n",
            "[CV] END .............C=0.1, max_iter=1000, solver=liblinear; total time=   1.3s\n",
            "[CV] END .............C=0.1, max_iter=1000, solver=newton-cg; total time=   6.0s\n",
            "[CV] END .............C=0.1, max_iter=1000, solver=newton-cg; total time=   5.7s\n",
            "[CV] END .............C=0.1, max_iter=1000, solver=newton-cg; total time=   5.1s\n",
            "[CV] END ....................C=1, max_iter=100, solver=lbfgs; total time=   3.5s\n",
            "[CV] END ....................C=1, max_iter=100, solver=lbfgs; total time=   3.7s\n",
            "[CV] END ....................C=1, max_iter=100, solver=lbfgs; total time=   2.9s\n",
            "[CV] END ................C=1, max_iter=100, solver=liblinear; total time=   2.7s\n",
            "[CV] END ................C=1, max_iter=100, solver=liblinear; total time=   2.0s\n",
            "[CV] END ................C=1, max_iter=100, solver=liblinear; total time=   1.4s\n",
            "[CV] END ................C=1, max_iter=100, solver=newton-cg; total time=   7.8s\n",
            "[CV] END ................C=1, max_iter=100, solver=newton-cg; total time=   6.1s\n",
            "[CV] END ................C=1, max_iter=100, solver=newton-cg; total time=   6.1s\n",
            "[CV] END ...................C=1, max_iter=1000, solver=lbfgs; total time=   4.1s\n",
            "[CV] END ...................C=1, max_iter=1000, solver=lbfgs; total time=   4.0s\n",
            "[CV] END ...................C=1, max_iter=1000, solver=lbfgs; total time=   3.7s\n",
            "[CV] END ...............C=1, max_iter=1000, solver=liblinear; total time=   1.5s\n",
            "[CV] END ...............C=1, max_iter=1000, solver=liblinear; total time=   1.9s\n",
            "[CV] END ...............C=1, max_iter=1000, solver=liblinear; total time=   1.6s\n",
            "[CV] END ...............C=1, max_iter=1000, solver=newton-cg; total time=   8.9s\n",
            "[CV] END ...............C=1, max_iter=1000, solver=newton-cg; total time=   7.5s\n",
            "[CV] END ...............C=1, max_iter=1000, solver=newton-cg; total time=   6.7s\n",
            "[CV] END ...................C=10, max_iter=100, solver=lbfgs; total time=   5.7s\n",
            "[CV] END ...................C=10, max_iter=100, solver=lbfgs; total time=   5.8s\n",
            "[CV] END ...................C=10, max_iter=100, solver=lbfgs; total time=   7.3s\n",
            "[CV] END ...............C=10, max_iter=100, solver=liblinear; total time=   1.7s\n",
            "[CV] END ...............C=10, max_iter=100, solver=liblinear; total time=   1.7s\n",
            "[CV] END ...............C=10, max_iter=100, solver=liblinear; total time=   1.3s\n",
            "[CV] END ...............C=10, max_iter=100, solver=newton-cg; total time=   9.6s\n",
            "[CV] END ...............C=10, max_iter=100, solver=newton-cg; total time=   8.0s\n",
            "[CV] END ...............C=10, max_iter=100, solver=newton-cg; total time=   7.9s\n",
            "[CV] END ..................C=10, max_iter=1000, solver=lbfgs; total time=   5.5s\n",
            "[CV] END ..................C=10, max_iter=1000, solver=lbfgs; total time=   5.4s\n",
            "[CV] END ..................C=10, max_iter=1000, solver=lbfgs; total time=   6.5s\n",
            "[CV] END ..............C=10, max_iter=1000, solver=liblinear; total time=   1.9s\n",
            "[CV] END ..............C=10, max_iter=1000, solver=liblinear; total time=   1.8s\n",
            "[CV] END ..............C=10, max_iter=1000, solver=liblinear; total time=   1.5s\n",
            "[CV] END ..............C=10, max_iter=1000, solver=newton-cg; total time=   9.1s\n",
            "[CV] END ..............C=10, max_iter=1000, solver=newton-cg; total time=   8.6s\n",
            "[CV] END ..............C=10, max_iter=1000, solver=newton-cg; total time=   6.5s\n",
            "[CV] END ..................C=100, max_iter=100, solver=lbfgs; total time=   5.4s\n",
            "[CV] END ..................C=100, max_iter=100, solver=lbfgs; total time=   3.7s\n",
            "[CV] END ..................C=100, max_iter=100, solver=lbfgs; total time=   5.4s\n",
            "[CV] END ..............C=100, max_iter=100, solver=liblinear; total time=   1.6s\n",
            "[CV] END ..............C=100, max_iter=100, solver=liblinear; total time=   1.6s\n",
            "[CV] END ..............C=100, max_iter=100, solver=liblinear; total time=   1.6s\n",
            "[CV] END ..............C=100, max_iter=100, solver=newton-cg; total time=   7.5s\n",
            "[CV] END ..............C=100, max_iter=100, solver=newton-cg; total time=   7.2s\n",
            "[CV] END ..............C=100, max_iter=100, solver=newton-cg; total time=   8.0s\n",
            "[CV] END .................C=100, max_iter=1000, solver=lbfgs; total time=   4.8s\n",
            "[CV] END .................C=100, max_iter=1000, solver=lbfgs; total time=   3.9s\n",
            "[CV] END .................C=100, max_iter=1000, solver=lbfgs; total time=   5.4s\n",
            "[CV] END .............C=100, max_iter=1000, solver=liblinear; total time=   1.6s\n",
            "[CV] END .............C=100, max_iter=1000, solver=liblinear; total time=   1.3s\n",
            "[CV] END .............C=100, max_iter=1000, solver=liblinear; total time=   1.4s\n",
            "[CV] END .............C=100, max_iter=1000, solver=newton-cg; total time=   8.8s\n",
            "[CV] END .............C=100, max_iter=1000, solver=newton-cg; total time=   7.1s\n",
            "[CV] END .............C=100, max_iter=1000, solver=newton-cg; total time=   9.0s\n",
            "[CV] END .................C=1000, max_iter=100, solver=lbfgs; total time=   3.0s\n",
            "[CV] END .................C=1000, max_iter=100, solver=lbfgs; total time=   2.9s\n",
            "[CV] END .................C=1000, max_iter=100, solver=lbfgs; total time=   3.5s\n",
            "[CV] END .............C=1000, max_iter=100, solver=liblinear; total time=   1.7s\n",
            "[CV] END .............C=1000, max_iter=100, solver=liblinear; total time=   1.7s\n",
            "[CV] END .............C=1000, max_iter=100, solver=liblinear; total time=   1.8s\n",
            "[CV] END .............C=1000, max_iter=100, solver=newton-cg; total time=   8.8s\n",
            "[CV] END .............C=1000, max_iter=100, solver=newton-cg; total time=   8.5s\n",
            "[CV] END .............C=1000, max_iter=100, solver=newton-cg; total time=   7.6s\n",
            "[CV] END ................C=1000, max_iter=1000, solver=lbfgs; total time=   3.3s\n",
            "[CV] END ................C=1000, max_iter=1000, solver=lbfgs; total time=   3.4s\n",
            "[CV] END ................C=1000, max_iter=1000, solver=lbfgs; total time=   3.3s\n",
            "[CV] END ............C=1000, max_iter=1000, solver=liblinear; total time=   1.5s\n",
            "[CV] END ............C=1000, max_iter=1000, solver=liblinear; total time=   1.5s\n",
            "[CV] END ............C=1000, max_iter=1000, solver=liblinear; total time=   1.2s\n",
            "[CV] END ............C=1000, max_iter=1000, solver=newton-cg; total time=   8.1s\n",
            "[CV] END ............C=1000, max_iter=1000, solver=newton-cg; total time=  10.6s\n",
            "[CV] END ............C=1000, max_iter=1000, solver=newton-cg; total time=  10.3s\n",
            "[CV] END ................C=10000, max_iter=100, solver=lbfgs; total time=   4.0s\n",
            "[CV] END ................C=10000, max_iter=100, solver=lbfgs; total time=   3.4s\n",
            "[CV] END ................C=10000, max_iter=100, solver=lbfgs; total time=   3.8s\n",
            "[CV] END ............C=10000, max_iter=100, solver=liblinear; total time=   1.9s\n",
            "[CV] END ............C=10000, max_iter=100, solver=liblinear; total time=   1.8s\n",
            "[CV] END ............C=10000, max_iter=100, solver=liblinear; total time=   1.5s\n",
            "[CV] END ............C=10000, max_iter=100, solver=newton-cg; total time=   9.1s\n",
            "[CV] END ............C=10000, max_iter=100, solver=newton-cg; total time=   8.2s\n",
            "[CV] END ............C=10000, max_iter=100, solver=newton-cg; total time=   8.2s\n",
            "[CV] END ...............C=10000, max_iter=1000, solver=lbfgs; total time=   3.3s\n",
            "[CV] END ...............C=10000, max_iter=1000, solver=lbfgs; total time=   2.8s\n",
            "[CV] END ...............C=10000, max_iter=1000, solver=lbfgs; total time=   3.6s\n",
            "[CV] END ...........C=10000, max_iter=1000, solver=liblinear; total time=   1.7s\n",
            "[CV] END ...........C=10000, max_iter=1000, solver=liblinear; total time=   1.7s\n",
            "[CV] END ...........C=10000, max_iter=1000, solver=liblinear; total time=   1.4s\n",
            "[CV] END ...........C=10000, max_iter=1000, solver=newton-cg; total time=   8.4s\n",
            "[CV] END ...........C=10000, max_iter=1000, solver=newton-cg; total time=   8.5s\n",
            "[CV] END ...........C=10000, max_iter=1000, solver=newton-cg; total time=   8.7s\n",
            "Best Parameters found: {'C': 1000, 'max_iter': 100, 'solver': 'liblinear'}\n"
          ]
        }
      ],
      "source": [
        "# # define parameters for GridSearchCV\n",
        "# parameters = {'C': [0.1, 1, 10, 100, 1000, 10000],\n",
        "#               'solver': ['lbfgs', 'liblinear', 'newton-cg'],\n",
        "#               'max_iter': [100, 1000]}\n",
        "\n",
        "# grid_search = GridSearchCV(estimator=lr, param_grid=parameters, cv=3, verbose=2)\n",
        "\n",
        "# grid_search.fit(X_train, y_train)\n",
        "\n",
        "# # Best parameters\n",
        "# print(f\"Best Parameters found: {grid_search.best_params_}\")"
      ]
    },
    {
      "cell_type": "code",
      "execution_count": null,
      "metadata": {
        "id": "TLQHYno4FtTd",
        "outputId": "e551bc73-e6c9-4521-c2e1-43e197f34b73"
      },
      "outputs": [
        {
          "data": {
            "image/png": "[encoded data removed]",
            "text/plain": [
              "<Figure size 800x600 with 1 Axes>"
            ]
          },
          "metadata": {},
          "output_type": "display_data"
        },
        {
          "name": "stdout",
          "output_type": "stream",
          "text": [
            "              precision    recall  f1-score   support\n",
            "\n",
            "        FAKE       0.94      0.95      0.94       618\n",
            "        REAL       0.95      0.94      0.94       642\n",
            "\n",
            "    accuracy                           0.94      1260\n",
            "   macro avg       0.94      0.94      0.94      1260\n",
            "weighted avg       0.94      0.94      0.94      1260\n",
            "\n"
          ]
        }
      ],
      "source": [
        "lf_2 = LogisticRegression(C=1000, solver='liblinear', max_iter= 100)\n",
        "\n",
        "model_lf = lf_2.fit(X_train, y_train)\n",
        "y_pred_lf_2 = lf_2.predict(X_test)\n",
        "\n",
        "classification_eval(y_test, y_pred_lf_2, 'Logistic Regression Optimized')"
      ]
    },
    {
      "cell_type": "code",
      "execution_count": null,
      "metadata": {
        "id": "vSGGj-QMEibl"
      },
      "outputs": [],
      "source": [
        "# pickle.dump(model_lf, open('model_lf.pkl', 'wb'))"
      ]
    }
  ],
  "metadata": {
    "colab": {
      "collapsed_sections": [
        "t2iCnatc6Q3B",
        "Syr8MN686V0J",
        "bL_2HflPE2lD",
        "59z2bvlYE5JF",
        "bC0vhgjDE61m",
        "j0VaHslAFEHW",
        "elNtibMJFGfj",
        "czjwMY3sGQ6M",
        "jKBPZhazGsK0",
        "e0UySnAAHNHs",
        "ngZkazgYH2sP",
        "1D05V3TOIPWB",
        "b24ISKzKIjJc",
        "s2QO44U6JKFD"
      ],
      "provenance": []
    },
    "kernelspec": {
      "display_name": "Python 3 (ipykernel)",
      "language": "python",
      "name": "python3"
    },
    "language_info": {
      "codemirror_mode": {
        "name": "ipython",
        "version": 3
      },
      "file_extension": ".py",
      "mimetype": "text/x-python",
      "name": "python",
      "nbconvert_exporter": "python",
      "pygments_lexer": "ipython3",
      "version": "3.12.7"
    }
  },
  "nbformat": 4,
  "nbformat_minor": 0
}